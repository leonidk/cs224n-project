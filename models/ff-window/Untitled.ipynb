{
 "cells": [
  {
   "cell_type": "code",
   "execution_count": 10,
   "metadata": {
    "collapsed": true
   },
   "outputs": [],
   "source": [
    "# coding: utf-8\n",
    "\n",
    "from __future__ import print_function\n",
    "from load_glove import *\n",
    "import json\n",
    "from collections import defaultdict\n",
    "import numpy as np\n",
    "import tensorflow as tf\n",
    "from sys import argv\n",
    "import os\n",
    "import argparse\n",
    "import gzip"
   ]
  },
  {
   "cell_type": "code",
   "execution_count": 37,
   "metadata": {
    "collapsed": false
   },
   "outputs": [],
   "source": [
    "parser = argparse.ArgumentParser()\n",
    "parser.add_argument('--runmode', dest='runmode', choices=[\"train\", \"test\"], default=\"train\")\n",
    "parser.add_argument('--dataset_name', dest='dataset_name', type=str, default=\"duc2004\")\n",
    "parser.add_argument('--trained_on', dest='trained_on', type=str, default=\"duc2004\")\n",
    "parser.add_argument('--cnn', dest='cnn', type=int, default=0)\n",
    "parser.add_argument('--train_embedding', dest='train_embedding', type=int, default=0)\n",
    "parser.add_argument('--output_root', dest='output_root', type=str, default=\"\")\n",
    "parser.add_argument('--evaluation_root', dest='evaluation_root', type=str, default=\"../../evaluation\")\n",
    "parser.add_argument('--glove_location', dest='glove_location', type=str, default=\"../../data/glove/glove.6B.100d.txt\")\n",
    "\n",
    "INPUT_MAX = 150\n",
    "OUTPUT_MAX = 20\n",
    "VOCAB_MAX = 30000\n",
    "\n",
    "GLV_RANGE = 0.5\n",
    "LR_DECAY_AMOUNT = 0.9\n",
    "starter_learning_rate = 1e-2\n",
    "hs = 256\n",
    "\n",
    "BATCH_SIZE = 32\n",
    "PRINT_EVERY = 5\n",
    "CHECKPOINT_EVERY = 5000\n",
    "TRAIN_KEEP_PROB = 0.5\n",
    "TRAIN_EMBEDDING = args.train_embedding\n",
    "USE_CNN = args.cnn\n",
    "KERNEL_SIZE = 7\n",
    "#args = parser.parse_args()\n",
    "args = parser.parse_args([]) # for ipython notebook"
   ]
  },
  {
   "cell_type": "code",
   "execution_count": 38,
   "metadata": {
    "collapsed": false
   },
   "outputs": [
    {
     "name": "stdout",
     "output_type": "stream",
     "text": [
      "Runmode train on dataset duc2004\n"
     ]
    }
   ],
   "source": [
    "log_components = [\"train\"]\n",
    "if args.runmode == \"train\":\n",
    "    log_components += [args.dataset_name]\n",
    "elif args.runmode == \"test\":\n",
    "    log_components += [args.trained_on]\n",
    "if args.cnn:\n",
    "    log_components += [\"cnn\"]\n",
    "if args.train_embedding:\n",
    "    log_components += [\"train_embedding\"]\n",
    "LOGDIR = \"-\".join(log_components)\n",
    "if args.output_root != \"\":\n",
    "    LOGDIR = os.path.join(args.output_root, LOGDIR)\n",
    "dataset_file = os.path.join(\"../../data\", args.dataset_name, \"data.json\")\n",
    "print(\"Runmode %s on dataset %s\" % (args.runmode, args.dataset_name))\n",
    "\n",
    "if args.runmode == \"test\":\n",
    "    predictions_dir_name = \"_\".join([\"seq2seq\", LOGDIR, args.trained_on, args.dataset_name])\n",
    "    predictions_dir_path = os.path.join(args.evaluation_root, predictions_dir_name)\n",
    "    predictions_file_path = os.path.join(predictions_dir_path, \"prediction.json.gz\")"
   ]
  },
  {
   "cell_type": "code",
   "execution_count": 98,
   "metadata": {
    "collapsed": false
   },
   "outputs": [],
   "source": [
    "GLOVE_LOC = args.glove_location\n",
    "\n",
    "INPUT_MAX = 100\n",
    "OUTPUT_MAX = 20\n",
    "VOCAB_MAX = 30000\n",
    "\n",
    "GLV_RANGE = 0.5\n",
    "LR_DECAY_AMOUNT = 0.9\n",
    "starter_learning_rate = 1e-2\n",
    "hs = 256\n",
    "\n",
    "BATCH_SIZE = 32\n",
    "PRINT_EVERY = 5\n",
    "CHECKPOINT_EVERY = 5000\n",
    "TRAIN_KEEP_PROB = 0.5\n",
    "TRAIN_EMBEDDING = args.train_embedding\n",
    "USE_CNN = args.cnn\n",
    "KERNEL_SIZE = 7\n",
    "WINDOW_SIZE = 4"
   ]
  },
  {
   "cell_type": "code",
   "execution_count": 68,
   "metadata": {
    "collapsed": false
   },
   "outputs": [
    {
     "name": "stdout",
     "output_type": "stream",
     "text": [
      "Loading GLOVE vectors...\n",
      "...loaded 100 dimensional GLOVE vectors!\n"
     ]
    }
   ],
   "source": [
    "\n",
    "print(\"Loading GLOVE vectors...\")\n",
    "words = glove2dict(GLOVE_LOC)\n",
    "word_counter = defaultdict(int)\n",
    "GLV_DIM = words['the'].shape[0]\n",
    "print(\"...loaded %d dimensional GLOVE vectors!\" % GLV_DIM)\n"
   ]
  },
  {
   "cell_type": "code",
   "execution_count": 103,
   "metadata": {
    "collapsed": false
   },
   "outputs": [
    {
     "name": "stdout",
     "output_type": "stream",
     "text": [
      "Loading dataset...\n",
      "17957 valid words found.\n"
     ]
    }
   ],
   "source": [
    "\n",
    "not_letters_or_digits = u'!\"#%\\'()*+,-./:;<=>?@[\\]^_`{|}~'\n",
    "translate_table = dict((ord(char), None) for char in not_letters_or_digits)\n",
    "def clean(text,clip_n=0):\n",
    "    res = text.replace('<d>','').replace('<p>','').replace('<s>','').replace('</d>','').replace('</p>','').replace('</s>','').translate(translate_table)\n",
    "    r2 = []\n",
    "    for word in res.split():\n",
    "        if word not in words:\n",
    "            words[word] = np.array([random.uniform(-GLV_RANGE, GLV_RANGE) for i in range(GLV_DIM)])\n",
    "    for word in res.split():\n",
    "        word_counter[word] += 1\n",
    "    if clip_n > 0:\n",
    "        return ' '.join(res.split()[:clip_n])\n",
    "    else:\n",
    "        return res\n",
    "\n",
    "print(\"Loading dataset...\")\n",
    "from collections import defaultdict\n",
    "with open(dataset_file) as fp:\n",
    "    data = json.load(fp)\n",
    "    train_o = [x for x in data if x['set'] == 'train']\n",
    "    dev_o = [x for x in data if x['set'] == 'dev']\n",
    "    test_o = [x for x in data if x['set'] == 'test']\n",
    "\n",
    "    train = sum([[(clean(x['data'],INPUT_MAX), clean(x['label'][i],OUTPUT_MAX),idx) for i in range(len(x['label']))] for idx,x in enumerate(train_o)],[])\n",
    "    dev   = sum([[(clean(x['data'],INPUT_MAX), clean(x['label'][i],OUTPUT_MAX),idx) for i in range(len(x['label']))] for idx,x in enumerate(dev_o)  ],[])\n",
    "    test  = sum([[(clean(x['data'],INPUT_MAX), clean(x['label'][i],OUTPUT_MAX),idx) for i in range(len(x['label']))] for idx,x in enumerate(test_o) ],[])\n",
    "\n",
    "    valid_words = (sorted([(v,k) for k,v in word_counter.items()])[::-1])\n",
    "    print(len(valid_words), \"valid words found.\")\n",
    "    valid_words = ['<PAD>'] + [x[1] for x in valid_words[:VOCAB_MAX]] + ['<EOS>','<UNK>','<SOS>']\n",
    "    unk_idx = valid_words.index('<UNK>')\n",
    "    vwd = defaultdict(lambda : unk_idx)\n",
    "    for idx,word in enumerate(valid_words):\n",
    "        vwd[word] = idx\n",
    "\n",
    "    initial_matrix = np.array([words[x] for x in valid_words])\n",
    "    def sent_to_idxs(s):\n",
    "        base =  [vwd[word] for word in s.split()]\n",
    "        sen_len = len(base)\n",
    "        base =  [vwd['<SOS>']] + base# + [valid_words.index('<EOS>')]\n",
    "        pad_word = (OUTPUT_MAX-sen_len)\n",
    "        base = base + pad_word*[vwd['<EOS>']]\n",
    "        return base,(sen_len,pad_word)\n",
    "    def sent_to_idxs_nopad(sentence):\n",
    "        base =  [vwd[word] for word in sentence.split()]\n",
    "        return base\n",
    "    random.seed(111948)\n",
    "    #train_idx = range(len(train))\n",
    "    #random.shuffle(train_idx)\n",
    "    #train = [train[i] for i in train_idx]\n",
    "    random.shuffle(train)\n",
    "    train_x = [sent_to_idxs_nopad(x[0]) for x in train]\n",
    "    train_y = [sent_to_idxs(x[1])[0] for x in train]\n",
    "    train_len = [sent_to_idxs(x[1])[1] for x in train]\n",
    "\n",
    "    dev_x = [sent_to_idxs_nopad(x[0]) for x in dev]\n",
    "    dev_y = [sent_to_idxs(x[1])[0] for x in dev]\n",
    "    dev_len = [sent_to_idxs(x[1])[1] for x in dev]\n",
    "\n",
    "    test_x = [sent_to_idxs_nopad(x[0]) for x in test]\n",
    "    test_y = [sent_to_idxs(x[1])[0] for x in test]\n",
    "    test_len = [sent_to_idxs(x[1])[1] for x in test]\n",
    "    \n"
   ]
  },
  {
   "cell_type": "code",
   "execution_count": 105,
   "metadata": {
    "collapsed": false
   },
   "outputs": [],
   "source": [
    "PAD_INDEX = valid_words.index('<PAD>')\n",
    "SOS_INDEX = valid_words.index('<SOS>')"
   ]
  },
  {
   "cell_type": "code",
   "execution_count": 101,
   "metadata": {
    "collapsed": false
   },
   "outputs": [
    {
     "name": "stdout",
     "output_type": "stream",
     "text": [
      "h shape:  (?, 100)\n",
      "(?, 17961)\n",
      "(?, 21)\n"
     ]
    }
   ],
   "source": [
    "tf.reset_default_graph()\n",
    "global_step = tf.Variable(0, trainable=False)\n",
    "VOCAB_SIZE = len(valid_words)\n",
    "learning_rate = tf.train.exponential_decay(starter_learning_rate, global_step, len(train_x)/BATCH_SIZE, LR_DECAY_AMOUNT, staircase=True)\n",
    "\n",
    "input_placeholder = tf.placeholder(tf.int32, (None, INPUT_MAX))\n",
    "input_step_placeholder = tf.placeholder(tf.int32, (None, INPUT_MAX))\n",
    "labels_placeholder = tf.placeholder(tf.int32, (None, OUTPUT_MAX+1))\n",
    "window_placeholder =  tf.placeholder(tf.int32, (None, WINDOW_SIZE))\n",
    "step_placeholder =  tf.placeholder(tf.int32, ())\n",
    "CONTEXT_SIZE = (INPUT_MAX + WINDOW_SIZE) * GLV_DIM\n",
    "\n",
    "embedding = tf.Variable(initial_matrix, dtype=tf.float32, trainable=TRAIN_EMBEDDING)\n",
    "input_embed = tf.nn.embedding_lookup(embedding, input_placeholder)\n",
    "#print(\"input_embed shape: \", input_embed.shape)\n",
    "window_embed = tf.nn.embedding_lookup(embedding, window_placeholder)\n",
    "#print(\"window_embed shape: \", window_embed.shape)\n",
    "context_concat = tf.concat([input_embed, window_embed], axis=1)\n",
    "#print(\"context_concat shape: \", context_concat.shape)\n",
    "context = tf.reshape(context_concat, [-1, CONTEXT_SIZE])\n",
    "#print(\"context shape: \", context.shape)\n",
    "\n",
    "W1 = tf.get_variable(\"W1\", shape=[CONTEXT_SIZE, HIDDEN_STATE_SIZE], initializer=tf.contrib.layers.xavier_initializer())\n",
    "b1 = tf.Variable(tf.constant(0.0, shape=[HIDDEN_STATE_SIZE]))\n",
    "h = tf.nn.tanh(tf.matmul(context, W1) + b1)\n",
    "print(\"h shape: \", h.shape)\n",
    "\n",
    "W2 = tf.get_variable(\"W2\", shape=[HIDDEN_STATE_SIZE, VOCAB_SIZE], initializer=tf.contrib.layers.xavier_initializer())\n",
    "preds = tf.matmul(h, W2)\n",
    "print(preds.shape)\n",
    "print(labels_placeholder.shape)\n",
    "\n",
    "ce = tf.nn.sparse_softmax_cross_entropy_with_logits(logits=preds,labels=labels_placeholder[:,step_placeholder])\n",
    "loss = tf.reduce_mean(ce)\n",
    "tf.summary.scalar('loss', loss)\n",
    "\n",
    "optimizer = tf.train.AdamOptimizer(learning_rate)\n",
    "gvs = optimizer.compute_gradients(loss)\n",
    "grads = [g for g,v in gvs]\n",
    "tvars = [v for g,v in gvs]\n",
    "grads, _= tf.clip_by_global_norm(grads,5)\n",
    "train_step = optimizer.apply_gradients(zip(grads,tvars))"
   ]
  },
  {
   "cell_type": "code",
   "execution_count": 110,
   "metadata": {
    "collapsed": false
   },
   "outputs": [
    {
     "data": {
      "text/plain": [
       "[0, 0, 0, 17960]"
      ]
     },
     "execution_count": 110,
     "metadata": {},
     "output_type": "execute_result"
    }
   ],
   "source": [
    "([PAD_INDEX] * (WINDOW_SIZE-1)) + [SOS_INDEX]"
   ]
  },
  {
   "cell_type": "code",
   "execution_count": 95,
   "metadata": {
    "collapsed": true
   },
   "outputs": [],
   "source": [
    "def sample(context_vector):\n",
    "    sentence = []\n",
    "    window = ([PAD_INDEX] * (WINDOW_SIZE-1)) + [SOS_INDEX]\n",
    "    for i in range(OUTPUT_MAX):\n",
    "        x = sent_to_idxs(' '.join(sentence))[0]\n",
    "        context_vector = np.array(context_vector).reshape([1,-1])\n",
    "        feed_dict = {\n",
    "            input_placeholder: context_vector,\n",
    "            labels_placeholder: np.array(x).reshape([1,-1]),\n",
    "            window_placeholder: window\n",
    "            step_placeholder: i+1,\n",
    "        }\n",
    "        probs = preds.eval(feed_dict=feed_dict)\n",
    "        word_index = np.argmax(probs)\n",
    "        window.append(word_index)\n",
    "        window.pop(0)\n",
    "        new_word = valid_words[word_index]\n",
    "        #if new_word != '<EOS>':\n",
    "        sentence.append(new_word)\n",
    "        #else:\n",
    "        #   break\n",
    "    return ' '.join(sentence)\n",
    "\n",
    "def idxs_to_sent(idxs):\n",
    "    ' '.join([x for x in [valid_words[x] for x in idxs] if x not in ['<EOS>','<SOS>']])\n",
    "\n",
    "\n",
    "def sample_batch(context_vectors):\n",
    "    sizes = [len(x) for x in context_vectors]\n",
    "    mat = np.zeros(shape=(len(context_vectors),INPUT_MAX))\n",
    "    for idx,row in enumerate(context_vectors):\n",
    "        mat[idx,:sizes[idx]] = np.array(row)\n",
    "    num_sent = np.array(context_vectors).shape[0]\n",
    "    sentences = [[] for _ in range(num_sent)]\n",
    "\n",
    "    for i in range(OUTPUT_MAX):\n",
    "        x = [sent_to_idxs(' '.join(s))[0] for s in sentences]\n",
    "        feed_dict = {\n",
    "            input_placeholder: mat.reshape([num_sent,-1]),\n",
    "            labels_placeholder: np.array(x).reshape([num_sent,-1]),\n",
    "            step_placeholder: i\n",
    "        }\n",
    "        probs = preds.eval(feed_dict=feed_dict) # batch,word,vocab\n",
    "        for batch_i,batch_prob in enumerate(probs):\n",
    "            new_word = valid_words[np.argmax(batch_prob[i,:])]\n",
    "            sentences[batch_i].append(new_word)\n",
    "    stops = [sentence.index('<EOS>') if '<EOS>' in sentence else OUTPUT_MAX for sentence in sentences]\n",
    "    return [' '.join(sentence[:maxe]) for maxe,sentence in zip(stops,sentences)]\n"
   ]
  },
  {
   "cell_type": "code",
   "execution_count": 46,
   "metadata": {
    "collapsed": true
   },
   "outputs": [],
   "source": [
    "def try_restoring_checkpoint(session, saver):\n",
    "    print('trying to restore checkpoints...')\n",
    "    try:\n",
    "      ckpt_state = tf.train.get_checkpoint_state(LOGDIR)\n",
    "    except tf.errors.OutOfRangeError as e:\n",
    "      print('Cannot restore checkpoint: ', e)\n",
    "      exit(1)\n",
    "\n",
    "    if not (ckpt_state and ckpt_state.model_checkpoint_path):\n",
    "      print('No model at %s, starting with fresh parameters' % LOGDIR)\n",
    "      return\n",
    "\n",
    "    print('Loading checkpoint ', ckpt_state.model_checkpoint_path)\n",
    "    saver.restore(session, ckpt_state.model_checkpoint_path)\n",
    "    print('...loaded.')"
   ]
  },
  {
   "cell_type": "code",
   "execution_count": 96,
   "metadata": {
    "collapsed": false
   },
   "outputs": [
    {
     "name": "stdout",
     "output_type": "stream",
     "text": [
      "trying to restore checkpoints...\n",
      "No model at train-duc2004, starting with fresh parameters\n",
      "0 3.06758\n",
      "TRAIN_SAMPLE:  <EOS> <EOS> <EOS> <EOS> <EOS> <EOS> <EOS> <EOS> <EOS> <EOS> <EOS> <EOS> <EOS> <EOS> <EOS> <EOS> <EOS> <EOS> <EOS> <EOS>\n",
      "TRAIN_LABEL:  primakov says economic crisis will not privatization efforts\n",
      "DEV   SAMPLE:  <EOS> <EOS> <EOS> <EOS> <EOS> <EOS> <EOS> <EOS> <EOS> <EOS> <EOS> <EOS> <EOS> <EOS> <EOS> <EOS> <EOS> <EOS> <EOS> <EOS>\n",
      "DEV   LABEL:  cambodian king announces coalition government with hun sen as sole premier\n",
      "\n",
      "\n",
      "5 0.806815\n",
      "TRAIN_SAMPLE:  <EOS> <EOS> <EOS> <EOS> <EOS> <EOS> <EOS> <EOS> <EOS> <EOS> <EOS> <EOS> <EOS> <EOS> <EOS> <EOS> <EOS> <EOS> <EOS> <EOS>\n",
      "TRAIN_LABEL:  chinese dissident yao zhenxian flees to us to escape arrest in china\n",
      "DEV   SAMPLE:  <EOS> <EOS> <EOS> <EOS> <EOS> <EOS> <EOS> <EOS> <EOS> <EOS> <EOS> <EOS> <EOS> <EOS> <EOS> <EOS> <EOS> <EOS> <EOS> <EOS>\n",
      "DEV   LABEL:  disputes over presidency block efforts to form a new government\n",
      "\n",
      "\n",
      "10 1.02936\n",
      "TRAIN_SAMPLE:  <EOS> <EOS> <EOS> <EOS> <EOS> <EOS> <EOS> <EOS> <EOS> <EOS> <EOS> <EOS> <EOS> <EOS> <EOS> <EOS> <EOS> <EOS> <EOS> <EOS>\n",
      "TRAIN_LABEL:  astronauts connect two segments for international space station\n",
      "DEV   SAMPLE:  <EOS> <EOS> <EOS> <EOS> <EOS> <EOS> <EOS> <EOS> <EOS> <EOS> <EOS> <EOS> <EOS> <EOS> <EOS> <EOS> <EOS> <EOS> <EOS> <EOS>\n",
      "DEV   LABEL:  cambodian king announces coalition government with hun sen as sole premier\n",
      "\n",
      "\n",
      "15 0.990333\n",
      "TRAIN_SAMPLE:  <EOS> <EOS> <EOS> <EOS> <EOS> <EOS> <EOS> <EOS> <EOS> <EOS> <EOS> <EOS> <EOS> <EOS> <EOS> <EOS> <EOS> <EOS> <EOS> <EOS>\n",
      "TRAIN_LABEL:  many europeans already live cosmopolitan life that euro expected to advance\n",
      "DEV   SAMPLE:  <EOS> <EOS> <EOS> <EOS> <EOS> <EOS> <EOS> <EOS> <EOS> <EOS> <EOS> <EOS> <EOS> <EOS> <EOS> <EOS> <EOS> <EOS> <EOS> <EOS>\n",
      "DEV   LABEL:  sihanouk says cambodian government crisis resolved parties to share power\n",
      "\n",
      "\n"
     ]
    },
    {
     "ename": "KeyboardInterrupt",
     "evalue": "",
     "output_type": "error",
     "traceback": [
      "\u001b[0;31m---------------------------------------------------------------------------\u001b[0m",
      "\u001b[0;31mKeyboardInterrupt\u001b[0m                         Traceback (most recent call last)",
      "\u001b[0;32m<ipython-input-96-76c2be325f36>\u001b[0m in \u001b[0;36m<module>\u001b[0;34m()\u001b[0m\n\u001b[1;32m     21\u001b[0m                 \u001b[0mstep_placeholder\u001b[0m\u001b[0;34m:\u001b[0m \u001b[0mstep\u001b[0m\u001b[0;34m\u001b[0m\u001b[0m\n\u001b[1;32m     22\u001b[0m             }\n\u001b[0;32m---> 23\u001b[0;31m             \u001b[0m_\u001b[0m\u001b[0;34m,\u001b[0m \u001b[0mbl\u001b[0m\u001b[0;34m,\u001b[0m \u001b[0msummary\u001b[0m \u001b[0;34m=\u001b[0m \u001b[0msess\u001b[0m\u001b[0;34m.\u001b[0m\u001b[0mrun\u001b[0m\u001b[0;34m(\u001b[0m\u001b[0;34m[\u001b[0m\u001b[0mtrain_step\u001b[0m\u001b[0;34m,\u001b[0m \u001b[0mloss\u001b[0m\u001b[0;34m,\u001b[0m \u001b[0mmerged\u001b[0m\u001b[0;34m]\u001b[0m\u001b[0;34m,\u001b[0m \u001b[0mfeed_dict\u001b[0m\u001b[0;34m=\u001b[0m\u001b[0mfeed_dict\u001b[0m\u001b[0;34m)\u001b[0m\u001b[0;34m\u001b[0m\u001b[0m\n\u001b[0m\u001b[1;32m     24\u001b[0m         \u001b[0;32mif\u001b[0m \u001b[0margs\u001b[0m\u001b[0;34m.\u001b[0m\u001b[0mrunmode\u001b[0m \u001b[0;34m==\u001b[0m \u001b[0;34m\"train\"\u001b[0m\u001b[0;34m:\u001b[0m\u001b[0;34m\u001b[0m\u001b[0m\n\u001b[1;32m     25\u001b[0m             \u001b[0msummary_writer\u001b[0m\u001b[0;34m.\u001b[0m\u001b[0madd_summary\u001b[0m\u001b[0;34m(\u001b[0m\u001b[0msummary\u001b[0m\u001b[0;34m,\u001b[0m \u001b[0mi\u001b[0m\u001b[0;34m)\u001b[0m\u001b[0;34m\u001b[0m\u001b[0m\n",
      "\u001b[0;32m/usr/local/lib/python3.6/site-packages/tensorflow/python/client/session.py\u001b[0m in \u001b[0;36mrun\u001b[0;34m(self, fetches, feed_dict, options, run_metadata)\u001b[0m\n\u001b[1;32m    765\u001b[0m     \u001b[0;32mtry\u001b[0m\u001b[0;34m:\u001b[0m\u001b[0;34m\u001b[0m\u001b[0m\n\u001b[1;32m    766\u001b[0m       result = self._run(None, fetches, feed_dict, options_ptr,\n\u001b[0;32m--> 767\u001b[0;31m                          run_metadata_ptr)\n\u001b[0m\u001b[1;32m    768\u001b[0m       \u001b[0;32mif\u001b[0m \u001b[0mrun_metadata\u001b[0m\u001b[0;34m:\u001b[0m\u001b[0;34m\u001b[0m\u001b[0m\n\u001b[1;32m    769\u001b[0m         \u001b[0mproto_data\u001b[0m \u001b[0;34m=\u001b[0m \u001b[0mtf_session\u001b[0m\u001b[0;34m.\u001b[0m\u001b[0mTF_GetBuffer\u001b[0m\u001b[0;34m(\u001b[0m\u001b[0mrun_metadata_ptr\u001b[0m\u001b[0;34m)\u001b[0m\u001b[0;34m\u001b[0m\u001b[0m\n",
      "\u001b[0;32m/usr/local/lib/python3.6/site-packages/tensorflow/python/client/session.py\u001b[0m in \u001b[0;36m_run\u001b[0;34m(self, handle, fetches, feed_dict, options, run_metadata)\u001b[0m\n\u001b[1;32m    963\u001b[0m     \u001b[0;32mif\u001b[0m \u001b[0mfinal_fetches\u001b[0m \u001b[0;32mor\u001b[0m \u001b[0mfinal_targets\u001b[0m\u001b[0;34m:\u001b[0m\u001b[0;34m\u001b[0m\u001b[0m\n\u001b[1;32m    964\u001b[0m       results = self._do_run(handle, final_targets, final_fetches,\n\u001b[0;32m--> 965\u001b[0;31m                              feed_dict_string, options, run_metadata)\n\u001b[0m\u001b[1;32m    966\u001b[0m     \u001b[0;32melse\u001b[0m\u001b[0;34m:\u001b[0m\u001b[0;34m\u001b[0m\u001b[0m\n\u001b[1;32m    967\u001b[0m       \u001b[0mresults\u001b[0m \u001b[0;34m=\u001b[0m \u001b[0;34m[\u001b[0m\u001b[0;34m]\u001b[0m\u001b[0;34m\u001b[0m\u001b[0m\n",
      "\u001b[0;32m/usr/local/lib/python3.6/site-packages/tensorflow/python/client/session.py\u001b[0m in \u001b[0;36m_do_run\u001b[0;34m(self, handle, target_list, fetch_list, feed_dict, options, run_metadata)\u001b[0m\n\u001b[1;32m   1013\u001b[0m     \u001b[0;32mif\u001b[0m \u001b[0mhandle\u001b[0m \u001b[0;32mis\u001b[0m \u001b[0;32mNone\u001b[0m\u001b[0;34m:\u001b[0m\u001b[0;34m\u001b[0m\u001b[0m\n\u001b[1;32m   1014\u001b[0m       return self._do_call(_run_fn, self._session, feed_dict, fetch_list,\n\u001b[0;32m-> 1015\u001b[0;31m                            target_list, options, run_metadata)\n\u001b[0m\u001b[1;32m   1016\u001b[0m     \u001b[0;32melse\u001b[0m\u001b[0;34m:\u001b[0m\u001b[0;34m\u001b[0m\u001b[0m\n\u001b[1;32m   1017\u001b[0m       return self._do_call(_prun_fn, self._session, handle, feed_dict,\n",
      "\u001b[0;32m/usr/local/lib/python3.6/site-packages/tensorflow/python/client/session.py\u001b[0m in \u001b[0;36m_do_call\u001b[0;34m(self, fn, *args)\u001b[0m\n\u001b[1;32m   1020\u001b[0m   \u001b[0;32mdef\u001b[0m \u001b[0m_do_call\u001b[0m\u001b[0;34m(\u001b[0m\u001b[0mself\u001b[0m\u001b[0;34m,\u001b[0m \u001b[0mfn\u001b[0m\u001b[0;34m,\u001b[0m \u001b[0;34m*\u001b[0m\u001b[0margs\u001b[0m\u001b[0;34m)\u001b[0m\u001b[0;34m:\u001b[0m\u001b[0;34m\u001b[0m\u001b[0m\n\u001b[1;32m   1021\u001b[0m     \u001b[0;32mtry\u001b[0m\u001b[0;34m:\u001b[0m\u001b[0;34m\u001b[0m\u001b[0m\n\u001b[0;32m-> 1022\u001b[0;31m       \u001b[0;32mreturn\u001b[0m \u001b[0mfn\u001b[0m\u001b[0;34m(\u001b[0m\u001b[0;34m*\u001b[0m\u001b[0margs\u001b[0m\u001b[0;34m)\u001b[0m\u001b[0;34m\u001b[0m\u001b[0m\n\u001b[0m\u001b[1;32m   1023\u001b[0m     \u001b[0;32mexcept\u001b[0m \u001b[0merrors\u001b[0m\u001b[0;34m.\u001b[0m\u001b[0mOpError\u001b[0m \u001b[0;32mas\u001b[0m \u001b[0me\u001b[0m\u001b[0;34m:\u001b[0m\u001b[0;34m\u001b[0m\u001b[0m\n\u001b[1;32m   1024\u001b[0m       \u001b[0mmessage\u001b[0m \u001b[0;34m=\u001b[0m \u001b[0mcompat\u001b[0m\u001b[0;34m.\u001b[0m\u001b[0mas_text\u001b[0m\u001b[0;34m(\u001b[0m\u001b[0me\u001b[0m\u001b[0;34m.\u001b[0m\u001b[0mmessage\u001b[0m\u001b[0;34m)\u001b[0m\u001b[0;34m\u001b[0m\u001b[0m\n",
      "\u001b[0;32m/usr/local/lib/python3.6/site-packages/tensorflow/python/client/session.py\u001b[0m in \u001b[0;36m_run_fn\u001b[0;34m(session, feed_dict, fetch_list, target_list, options, run_metadata)\u001b[0m\n\u001b[1;32m   1002\u001b[0m         return tf_session.TF_Run(session, options,\n\u001b[1;32m   1003\u001b[0m                                  \u001b[0mfeed_dict\u001b[0m\u001b[0;34m,\u001b[0m \u001b[0mfetch_list\u001b[0m\u001b[0;34m,\u001b[0m \u001b[0mtarget_list\u001b[0m\u001b[0;34m,\u001b[0m\u001b[0;34m\u001b[0m\u001b[0m\n\u001b[0;32m-> 1004\u001b[0;31m                                  status, run_metadata)\n\u001b[0m\u001b[1;32m   1005\u001b[0m \u001b[0;34m\u001b[0m\u001b[0m\n\u001b[1;32m   1006\u001b[0m     \u001b[0;32mdef\u001b[0m \u001b[0m_prun_fn\u001b[0m\u001b[0;34m(\u001b[0m\u001b[0msession\u001b[0m\u001b[0;34m,\u001b[0m \u001b[0mhandle\u001b[0m\u001b[0;34m,\u001b[0m \u001b[0mfeed_dict\u001b[0m\u001b[0;34m,\u001b[0m \u001b[0mfetch_list\u001b[0m\u001b[0;34m)\u001b[0m\u001b[0;34m:\u001b[0m\u001b[0;34m\u001b[0m\u001b[0m\n",
      "\u001b[0;31mKeyboardInterrupt\u001b[0m: "
     ]
    }
   ],
   "source": [
    "with tf.Session() as sess:\n",
    "    merged = tf.summary.merge_all()\n",
    "    sess.run(tf.global_variables_initializer())\n",
    "    summary_writer = tf.summary.FileWriter(LOGDIR, sess.graph)\n",
    "    saver =  tf.train.Saver()\n",
    "    try_restoring_checkpoint(sess, saver)\n",
    "    data_size = len(train_x)\n",
    "    for i in range(data_size * 10):\n",
    "        start_idx = (i*BATCH_SIZE) % data_size\n",
    "        end_idx = start_idx+BATCH_SIZE\n",
    "        mask = np.array([np.array([1.0]*x[0] + [0.0]*x[1]) for x in train_len[start_idx:end_idx]])\n",
    "        train_sizes = [len(x) for x in train_x[start_idx:end_idx]]\n",
    "        inputs_batch = np.zeros(shape=(len(train_sizes),INPUT_MAX))\n",
    "        for idx,row in enumerate(train_x[start_idx:end_idx]):\n",
    "            inputs_batch[idx,:train_sizes[idx]] = np.array(row)\n",
    "        labels_batch = train_y[start_idx:end_idx]\n",
    "        for step in range(OUTPUT_MAX):\n",
    "            feed_dict = {\n",
    "                input_placeholder: inputs_batch,\n",
    "                labels_placeholder: labels_batch,\n",
    "                step_placeholder: step\n",
    "            }\n",
    "            _, bl, summary = sess.run([train_step, loss, merged], feed_dict=feed_dict)\n",
    "        if args.runmode == \"train\":\n",
    "            summary_writer.add_summary(summary, i)\n",
    "        if i % PRINT_EVERY == 0:\n",
    "            print(i,bl)\n",
    "            print('TRAIN_SAMPLE: ', sample(train_x[start_idx]))\n",
    "            print('TRAIN_LABEL: ', ' '.join([x for x in [valid_words[x] for x in train_y[start_idx]] if x not in ['<EOS>','<SOS>']]))\n",
    "            index = int(random.random()*10)\n",
    "            print('DEV   SAMPLE: ', sample(dev_x[index]))\n",
    "            print('DEV   LABEL: ', ' '.join([x for x in [valid_words[x] for x in dev_y[index]] if x not in ['<EOS>','<SOS>']]))\n",
    "\n",
    "            print('\\n')\n",
    "        if i != 0 and i %2000*len(train_x)/BATCH_SIZE == 0:\n",
    "            print(\"Saving checkpoint...\")\n",
    "            saver.save(sess, os.path.join(LOGDIR, 'model-checkpoint-'), global_step=i)\n",
    "            summary_writer.flush()"
   ]
  },
  {
   "cell_type": "code",
   "execution_count": 50,
   "metadata": {
    "collapsed": false
   },
   "outputs": [
    {
     "data": {
      "text/plain": [
       "32"
      ]
     },
     "execution_count": 50,
     "metadata": {},
     "output_type": "execute_result"
    }
   ],
   "source": [
    "print(len(train_mat))"
   ]
  },
  {
   "cell_type": "code",
   "execution_count": 58,
   "metadata": {
    "collapsed": false
   },
   "outputs": [
    {
     "data": {
      "text/plain": [
       "2874"
      ]
     },
     "execution_count": 58,
     "metadata": {},
     "output_type": "execute_result"
    }
   ],
   "source": [
    "train_y[start_idx:end_idx][1][1]"
   ]
  }
 ],
 "metadata": {
  "kernelspec": {
   "display_name": "Python 3",
   "language": "python",
   "name": "python3"
  },
  "language_info": {
   "codemirror_mode": {
    "name": "ipython",
    "version": 3
   },
   "file_extension": ".py",
   "mimetype": "text/x-python",
   "name": "python",
   "nbconvert_exporter": "python",
   "pygments_lexer": "ipython3",
   "version": "3.6.0"
  }
 },
 "nbformat": 4,
 "nbformat_minor": 2
}
